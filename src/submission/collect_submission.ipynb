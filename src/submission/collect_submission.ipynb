{
  "cells": [
    {
      "cell_type": "markdown",
      "id": "2fdf2ae1",
      "metadata": {},
      "source": [
        "# Setup "
      ]
    },
    {
      "cell_type": "markdown",
      "id": "02652c55",
      "metadata": {},
      "source": [
        "<div style=\"background-color: #ffebee; border: 2px solid #d32f2f; padding: 10px; border-radius: 5px; color: #b71c1c;\">\n",
        "        <b>Caution:</b> The setup code below only needs to be run once per assignment. If you've already executed it, you can safely ignore this section and proceed to the <a href=\"#assignment-content\" style=\"color: #d32f2f; text-decoration: underline;\">Assignment Content</a>.\n",
        "    </div>"
      ]
    },
    {
      "cell_type": "markdown",
      "id": "ae793c0b",
      "metadata": {},
      "source": [
        "This will run through setup of all necessary dependencies to complete the assignment."
      ]
    },
    {
      "cell_type": "markdown",
      "id": "cda049e1",
      "metadata": {},
      "source": [
        "## Install required tools"
      ]
    },
    {
      "cell_type": "code",
      "execution_count": 1,
      "id": "9bca6094",
      "metadata": {},
      "outputs": [],
      "source": [
        "try:\n",
        "  import google.colab\n",
        "  IN_COLAB = True\n",
        "except:\n",
        "  IN_COLAB = False\n",
        "\n",
        "if IN_COLAB:\n",
        "    # fixing error like \"No module named 'imp'\"\n",
        "    !sed -i -e 's/from imp import reload/from importlib import reload/' /usr/local/lib/python3.12/dist-packages/IPython/extensions/autoreload.py\n",
        "else:\n",
        "  import os\n",
        "  # add local dependencies to PATH (for uv installation)\n",
        "  os.environ['PATH'] = '/usr/local/bin:$HOME/.local/bin:' + os.environ['PATH']\n",
        "  # add conda dependencies to PATH (for conda installation)\n",
        "  os.environ['PATH'] = '/opt/anaconda3:~/anaconda3:~:~/miniconda3:/opt/miniconda3:' + os.environ['PATH']"
      ]
    },
    {
      "cell_type": "markdown",
      "id": "06d5422e",
      "metadata": {},
      "source": [
        "## Install datasets"
      ]
    },
    {
      "cell_type": "markdown",
      "id": "3ba057b7",
      "metadata": {},
      "source": [
        "The code snippets below will mount your Google Drive folder (if in a Colab environment) and proceed to install the relevant datasets needed to complete the assignment."
      ]
    },
    {
      "cell_type": "code",
      "execution_count": 2,
      "id": "70705ee6",
      "metadata": {},
      "outputs": [
        {
          "name": "stdout",
          "output_type": "stream",
          "text": [
            "FOLDERNAME:  d:\\course\\XCS231N-Course\\XCS231N-A1\\src\\submission\n",
            "WORK_DIR:  d:\\course\\XCS231N-Course\\XCS231N-A1\\src\\submission\n"
          ]
        }
      ],
      "source": [
        "if IN_COLAB:\n",
        "    # TODO: For colab, Enter the foldername in your Google Drive\n",
        "    # to the root of the assignment folder, where this notebook exists\n",
        "    # e.g. 'XCS231N/XCS231N-A?/src/submission' # you need to update \"A?\" with the homework number\n",
        "    FOLDERNAME = 'path to your submission folder, see the above description'\n",
        "    WORK_DIR = '/content/drive/MyDrive/{}'.format(FOLDERNAME)\n",
        "    # This mounts your Google Drive to the Colab VM.\n",
        "    from google.colab import drive\n",
        "    drive.mount('/content/drive')\n",
        "\n",
        "    assert FOLDERNAME is not None, \"[!] Enter the foldername.\"\n",
        "\n",
        "    # Now that we've mounted your Drive, this ensures that\n",
        "    # the Python interpreter of the Colab VM can load\n",
        "    # python files from within it.\n",
        "    import sys\n",
        "    sys.path.append(WORK_DIR)\n",
        "else:\n",
        "    # on local or azure, FOLDERNAME is set automatically\n",
        "    FOLDERNAME=os.getcwd()\n",
        "    WORK_DIR = FOLDERNAME\n",
        "\n",
        "print(f\"FOLDERNAME: \", FOLDERNAME)\n",
        "print(f\"WORK_DIR: \", WORK_DIR)"
      ]
    },
    {
      "cell_type": "markdown",
      "id": "setup_divider",
      "metadata": {},
      "source": [
        "---"
      ]
    },
    {
      "cell_type": "markdown",
      "metadata": {},
      "source": [
        "# Collect Submission - Zip\n",
        "\n",
        "Run this notebook once you have completed all the other notebooks: `knn.ipynb`, `softmax.ipynb`, `two_layer_net.ipynb`, `features.ipynb`, and `FullyConnectedNets.ipynb`.\n",
        "\n",
        "It will:\n",
        "\n",
        "* Generate a zip file of your code (`.py` and `.ipynb`) called `a1.zip`.\n",
        "\n",
        "If your submission for this step was successful, you should see the following display message:\n",
        "\n",
        "`### Done! Please submit a1.zip to Gradescope. ###`\n",
        "\n",
        "Make sure to download the zip locally to your computer, then submit to Gradescope coding submission.\n",
        " \n",
        "**Don't forget to submit inline questions in the notebook using Gradescope written submission.**\n",
        " \n",
        "Congrats on successfully completing the assignment!"
      ]
    },
    {
      "cell_type": "code",
      "execution_count": 3,
      "metadata": {},
      "outputs": [
        {
          "name": "stdout",
          "output_type": "stream",
          "text": [
            "d:\\course\\XCS231N-Course\\XCS231N-A1\\src\n",
            "/d/course/XCS231N-Course/XCS231N-A1/src/submission /d/course/XCS231N-Course/XCS231N-A1/src\n",
            "### Zipping file ###\n",
            "### Done! Please submit a1.zip to Gradescope. ###\n",
            "### Full path: /d/course/XCS231N-Course/XCS231N-A1/src/a1.zip ###\n",
            "/d/course/XCS231N-Course/XCS231N-A1/src\n"
          ]
        }
      ],
      "source": [
        "%cd $WORK_DIR/..\n",
        "!bash ./collect_submission.sh"
      ]
    }
  ],
  "metadata": {
    "kernelspec": {
      "display_name": "Python 3",
      "language": "python",
      "name": "python3"
    },
    "language_info": {
      "codemirror_mode": {
        "name": "ipython",
        "version": 3
      },
      "file_extension": ".py",
      "mimetype": "text/x-python",
      "name": "python",
      "nbconvert_exporter": "python",
      "pygments_lexer": "ipython3",
      "version": "3.12.12"
    }
  },
  "nbformat": 4,
  "nbformat_minor": 1
}
