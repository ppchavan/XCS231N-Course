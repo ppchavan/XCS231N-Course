{
  "cells": [
    {
      "cell_type": "markdown",
      "id": "2fdf2ae1",
      "metadata": {},
      "source": [
        "# Setup "
      ]
    },
    {
      "cell_type": "markdown",
      "id": "02652c55",
      "metadata": {},
      "source": [
        "<div style=\"background-color: #ffebee; border: 2px solid #d32f2f; padding: 10px; border-radius: 5px; color: #b71c1c;\">\n",
        "        <b>Caution:</b> The setup code below only needs to be run once per assignment. If you've already executed it, you can safely ignore this section and proceed to the <a href=\"#assignment-content\" style=\"color: #d32f2f; text-decoration: underline;\">Assignment Content</a>.\n",
        "    </div>"
      ]
    },
    {
      "cell_type": "markdown",
      "id": "ae793c0b",
      "metadata": {},
      "source": [
        "This will run through setup of all necessary dependencies to complete the assignment."
      ]
    },
    {
      "cell_type": "markdown",
      "id": "cda049e1",
      "metadata": {},
      "source": [
        "## Install required tools"
      ]
    },
    {
      "cell_type": "code",
      "execution_count": null,
      "id": "9bca6094",
      "metadata": {},
      "outputs": [],
      "source": [
        "try:\n",
        "  import google.colab\n",
        "  IN_COLAB = True\n",
        "except:\n",
        "  IN_COLAB = False\n",
        "\n",
        "if IN_COLAB:\n",
        "    # fixing error like \"No module named 'imp'\"\n",
        "    !sed -i -e 's/from imp import reload/from importlib import reload/' /usr/local/lib/python3.12/dist-packages/IPython/extensions/autoreload.py\n",
        "else:\n",
        "  import os\n",
        "  # add local dependencies to PATH (for uv installation)\n",
        "  os.environ['PATH'] = '/usr/local/bin:$HOME/.local/bin:' + os.environ['PATH']\n",
        "  # add conda dependencies to PATH (for conda installation)\n",
        "  os.environ['PATH'] = '/opt/anaconda3:~/anaconda3:~:~/miniconda3:/opt/miniconda3:' + os.environ['PATH']"
      ]
    },
    {
      "cell_type": "markdown",
      "id": "06d5422e",
      "metadata": {},
      "source": [
        "## Install datasets"
      ]
    },
    {
      "cell_type": "markdown",
      "id": "3ba057b7",
      "metadata": {},
      "source": [
        "The code snippets below will mount your Google Drive folder (if in a Colab environment) and proceed to install the relevant datasets needed to complete the assignment."
      ]
    },
    {
      "cell_type": "code",
      "execution_count": null,
      "id": "70705ee6",
      "metadata": {},
      "outputs": [],
      "source": [
        "if IN_COLAB:\n",
        "    # TODO: For colab, Enter the foldername in your Google Drive\n",
        "    # to the root of the assignment folder, where this notebook exists\n",
        "    # e.g. 'XCS231N/XCS231N-A?/src/submission' # you need to update \"A?\" with the homework number\n",
        "    FOLDERNAME = 'path to your submission folder, see the above description'\n",
        "    WORK_DIR = '/content/drive/MyDrive/{}'.format(FOLDERNAME)\n",
        "    # This mounts your Google Drive to the Colab VM.\n",
        "    from google.colab import drive\n",
        "    drive.mount('/content/drive')\n",
        "\n",
        "    assert FOLDERNAME is not None, \"[!] Enter the foldername.\"\n",
        "\n",
        "    # Now that we've mounted your Drive, this ensures that\n",
        "    # the Python interpreter of the Colab VM can load\n",
        "    # python files from within it.\n",
        "    import sys\n",
        "    sys.path.append(WORK_DIR)\n",
        "else:\n",
        "    # on local or azure, FOLDERNAME is set automatically\n",
        "    FOLDERNAME=os.getcwd()\n",
        "    WORK_DIR = FOLDERNAME\n",
        "\n",
        "print(f\"FOLDERNAME: \", FOLDERNAME)\n",
        "print(f\"WORK_DIR: \", WORK_DIR)"
      ]
    },
    {
      "cell_type": "code",
      "execution_count": null,
      "id": "f537ac6b",
      "metadata": {},
      "outputs": [],
      "source": [
        "print(\"Getting dataset: START\")\n",
        "%cd $WORK_DIR/xcs231n/datasets\n",
        "!bash get_datasets.sh\n",
        "%cd $WORK_DIR\n",
        "print(\"Getting dataset: DONE\")"
      ]
    },
    {
      "cell_type": "markdown",
      "id": "2d76b05d",
      "metadata": {},
      "source": [
        "# Package Manager Setup"
      ]
    },
    {
      "cell_type": "markdown",
      "id": "2eefd455",
      "metadata": {},
      "source": [
        "Below you have the option to run through the installation of `uv` package manager. Optionally, you can still work with `conda`."
      ]
    },
    {
      "cell_type": "markdown",
      "id": "ef618f0e",
      "metadata": {},
      "source": [
        "## `uv` (preferred)"
      ]
    },
    {
      "cell_type": "code",
      "execution_count": null,
      "id": "774a8631",
      "metadata": {},
      "outputs": [],
      "source": [
        "if not IN_COLAB:\n",
        "  %cd $WORK_DIR/../..\n",
        "  !source install.sh -r\n",
        "  !source .venv/bin/activate"
      ]
    },
    {
      "cell_type": "markdown",
      "id": "bc823161",
      "metadata": {},
      "source": [
        "## `conda` (legacy)"
      ]
    },
    {
      "cell_type": "code",
      "execution_count": null,
      "id": "161ae8ec",
      "metadata": {},
      "outputs": [],
      "source": [
        "# uncomment to use conda\n",
        "# if IN_COLAB:\n",
        "#     !pip install -q condacolab\n",
        "#     import condacolab\n",
        "#     condacolab.install()\n",
        "#     %cd $WORK_DIR/src\n",
        "#     !conda env create -f environment.yml\n",
        "#     !exec bash\n",
        "# else:\n",
        "#     %cd $WORK_DIR/src\n",
        "#     !conda env create -f environment.yml"
      ]
    },
    {
      "cell_type": "markdown",
      "id": "setup_divider",
      "metadata": {},
      "source": [
        "---"
      ]
    },
    {
      "cell_type": "markdown",
      "id": "assignment_content_header",
      "metadata": {},
      "source": [
        "<a id=\"assignment-content\"></a>\n",
        "\n",
        "# Assignment Content"
      ]
    },
    {
      "cell_type": "markdown",
      "id": "0791de1b",
      "metadata": {
        "id": "0791de1b",
        "tags": [
          "pdf-title"
        ]
      },
      "source": [
        "# Image features exercise\n",
        "\n",
        "We have seen that we can achieve reasonable performance on an image classification task by training a linear classifier on the pixels of the input image. In this exercise we will show that we can improve our classification performance by training linear classifiers not on raw pixels but on features that are computed from the raw pixels.\n",
        "\n",
        "All of your work for this exercise will be done in this notebook."
      ]
    },
    {
      "cell_type": "code",
      "execution_count": 1,
      "id": "86e23d75",
      "metadata": {
        "executionInfo": {
          "elapsed": 605,
          "status": "ok",
          "timestamp": 1743916914048,
          "user": {
            "displayName": "Chaitanya Pankajkumar Patel",
            "userId": "12528634836775253144"
          },
          "user_tz": 420
        },
        "id": "86e23d75",
        "tags": [
          "pdf-ignore"
        ]
      },
      "outputs": [],
      "source": [
        "import random\n",
        "import numpy as np\n",
        "from xcs231n.data_utils import load_CIFAR10\n",
        "import matplotlib.pyplot as plt\n",
        "\n",
        "\n",
        "%matplotlib inline\n",
        "plt.rcParams['figure.figsize'] = (10.0, 8.0) # set default size of plots\n",
        "plt.rcParams['image.interpolation'] = 'nearest'\n",
        "plt.rcParams['image.cmap'] = 'gray'\n",
        "\n",
        "# for auto-reloading extenrnal modules\n",
        "# see http://stackoverflow.com/questions/1907993/autoreload-of-modules-in-ipython\n",
        "%load_ext autoreload\n",
        "%autoreload 2"
      ]
    },
    {
      "cell_type": "markdown",
      "id": "edcba4a5",
      "metadata": {
        "id": "edcba4a5",
        "tags": [
          "pdf-ignore"
        ]
      },
      "source": [
        "## Load data\n",
        "Similar to previous exercises, we will load CIFAR-10 data from disk."
      ]
    },
    {
      "cell_type": "code",
      "execution_count": 2,
      "id": "44caba8f",
      "metadata": {
        "executionInfo": {
          "elapsed": 10260,
          "status": "ok",
          "timestamp": 1743916928956,
          "user": {
            "displayName": "Chaitanya Pankajkumar Patel",
            "userId": "12528634836775253144"
          },
          "user_tz": 420
        },
        "id": "44caba8f",
        "tags": [
          "pdf-ignore"
        ]
      },
      "outputs": [],
      "source": [
        "from xcs231n.features import color_histogram_hsv, hog_feature\n",
        "\n",
        "def get_CIFAR10_data(num_training=49000, num_validation=1000, num_test=1000):\n",
        "    # Load the raw CIFAR-10 data\n",
        "    cifar10_dir = 'xcs231n/datasets/cifar-10-batches-py'\n",
        "\n",
        "    # Cleaning up variables to prevent loading data multiple times (which may cause memory issue)\n",
        "    try:\n",
        "       del X_train, y_train\n",
        "       del X_test, y_test\n",
        "       print('Clear previously loaded data.')\n",
        "    except:\n",
        "       pass\n",
        "\n",
        "    X_train, y_train, X_test, y_test = load_CIFAR10(cifar10_dir)\n",
        "\n",
        "    # Subsample the data\n",
        "    mask = list(range(num_training, num_training + num_validation))\n",
        "    X_val = X_train[mask]\n",
        "    y_val = y_train[mask]\n",
        "    mask = list(range(num_training))\n",
        "    X_train = X_train[mask]\n",
        "    y_train = y_train[mask]\n",
        "    mask = list(range(num_test))\n",
        "    X_test = X_test[mask]\n",
        "    y_test = y_test[mask]\n",
        "\n",
        "    return X_train, y_train, X_val, y_val, X_test, y_test\n",
        "\n",
        "X_train, y_train, X_val, y_val, X_test, y_test = get_CIFAR10_data()"
      ]
    },
    {
      "cell_type": "markdown",
      "id": "37e4b3f6",
      "metadata": {
        "id": "37e4b3f6",
        "tags": [
          "pdf-ignore"
        ]
      },
      "source": [
        "## Extract Features\n",
        "For each image we will compute a Histogram of Oriented\n",
        "Gradients (HOG) as well as a color histogram using the hue channel in HSV\n",
        "color space. We form our final feature vector for each image by concatenating\n",
        "the HOG and color histogram feature vectors.\n",
        "\n",
        "Roughly speaking, HOG should capture the texture of the image while ignoring\n",
        "color information, and the color histogram represents the color of the input\n",
        "image while ignoring texture. As a result, we expect that using both together\n",
        "ought to work better than using either alone. Verifying this assumption would\n",
        "be a good thing to try for your own interest.\n",
        "\n",
        "The `hog_feature` and `color_histogram_hsv` functions both operate on a single\n",
        "image and return a feature vector for that image. The extract_features\n",
        "function takes a set of images and a list of feature functions and evaluates\n",
        "each feature function on each image, storing the results in a matrix where\n",
        "each column is the concatenation of all feature vectors for a single image."
      ]
    },
    {
      "cell_type": "code",
      "execution_count": 3,
      "id": "7341d6c7",
      "metadata": {
        "colab": {
          "base_uri": "https://localhost:8080/"
        },
        "executionInfo": {
          "elapsed": 64479,
          "status": "ok",
          "timestamp": 1743917935492,
          "user": {
            "displayName": "Chaitanya Pankajkumar Patel",
            "userId": "12528634836775253144"
          },
          "user_tz": 420
        },
        "id": "7341d6c7",
        "outputId": "35bf23aa-4f72-4279-a3bd-335341ed69e8",
        "scrolled": true,
        "tags": [
          "pdf-ignore"
        ]
      },
      "outputs": [],
      "source": [
        "from xcs231n.features import *\n",
        "\n",
        "# num_color_bins = 10 # Number of bins in the color histogram\n",
        "num_color_bins = 25 # Number of bins in the color histogram\n",
        "feature_fns = [hog_feature, lambda img: color_histogram_hsv(img, nbin=num_color_bins)]\n",
        "X_train_feats = extract_features(X_train, feature_fns, verbose=True)\n",
        "X_val_feats = extract_features(X_val, feature_fns)\n",
        "X_test_feats = extract_features(X_test, feature_fns)\n",
        "\n",
        "# Preprocessing: Subtract the mean feature\n",
        "mean_feat = np.mean(X_train_feats, axis=0, keepdims=True)\n",
        "X_train_feats -= mean_feat\n",
        "X_val_feats -= mean_feat\n",
        "X_test_feats -= mean_feat\n",
        "\n",
        "# Preprocessing: Divide by standard deviation. This ensures that each feature\n",
        "# has roughly the same scale.\n",
        "std_feat = np.std(X_train_feats, axis=0, keepdims=True)\n",
        "X_train_feats /= std_feat\n",
        "X_val_feats /= std_feat\n",
        "X_test_feats /= std_feat\n",
        "\n",
        "# Preprocessing: Add a bias dimension\n",
        "X_train_feats = np.hstack([X_train_feats, np.ones((X_train_feats.shape[0], 1))])\n",
        "X_val_feats = np.hstack([X_val_feats, np.ones((X_val_feats.shape[0], 1))])\n",
        "X_test_feats = np.hstack([X_test_feats, np.ones((X_test_feats.shape[0], 1))])"
      ]
    },
    {
      "cell_type": "markdown",
      "id": "684ded7b",
      "metadata": {
        "id": "684ded7b"
      },
      "source": [
        "## Train Softmax classifier on features\n",
        "Using the Softmax code developed earlier in the assignment, train Softmax classifiers on top of the features extracted above; this should achieve better results than training them directly on top of raw pixels."
      ]
    },
    {
      "cell_type": "code",
      "execution_count": 4,
      "id": "9abaf16c",
      "metadata": {
        "colab": {
          "base_uri": "https://localhost:8080/"
        },
        "executionInfo": {
          "elapsed": 6507,
          "status": "ok",
          "timestamp": 1743918976638,
          "user": {
            "displayName": "Chaitanya Pankajkumar Patel",
            "userId": "12528634836775253144"
          },
          "user_tz": 420
        },
        "id": "9abaf16c",
        "outputId": "ecdf4f92-74f5-448f-e5ef-da45232eb4c5",
        "tags": [
          "code"
        ]
      },
      "outputs": [],
      "source": [
        "# Use the validation set to tune the learning rate and regularization strength\n",
        "\n",
        "from xcs231n.classifiers.linear_classifier import Softmax\n",
        "\n",
        "learning_rates = [1e-7, 1e-6]\n",
        "regularization_strengths = [5e5, 5e6]\n",
        "\n",
        "# ### START CODE HERE ###\n",
        "# ### END CODE HERE ###\n",
        "\n",
        "results = {}\n",
        "best_val = -1\n",
        "best_softmax = None\n",
        "\n",
        "################################################################################\n",
        "# TODO:                                                                        #\n",
        "# Use the validation set to set the learning rate and regularization strength. #\n",
        "# This should be identical to the validation that you did for the Softmax; save#\n",
        "# the best trained classifer in best_softmax. If you carefully tune the model, #\n",
        "# you should be able to get accuracy of above 0.42 on the validation set.      #\n",
        "################################################################################\n",
        "# ### START CODE HERE ###\n",
        "# ### END CODE HERE ###\n",
        "\n",
        "# Print out results.\n",
        "for lr, reg in sorted(results):\n",
        "    train_accuracy, val_accuracy = results[(lr, reg)]\n",
        "    print('lr %e reg %e train accuracy: %f val accuracy: %f' % (\n",
        "                lr, reg, train_accuracy, val_accuracy))\n",
        "\n",
        "print('best validation accuracy achieved: %f' % best_val)"
      ]
    },
    {
      "cell_type": "code",
      "execution_count": 5,
      "id": "f54135a4",
      "metadata": {
        "colab": {
          "base_uri": "https://localhost:8080/"
        },
        "executionInfo": {
          "elapsed": 35,
          "status": "ok",
          "timestamp": 1743918980038,
          "user": {
            "displayName": "Chaitanya Pankajkumar Patel",
            "userId": "12528634836775253144"
          },
          "user_tz": 420
        },
        "id": "f54135a4",
        "outputId": "22ac772d-b674-4455-ce7d-8d05463df947",
        "test": "svm_test_accuracy"
      },
      "outputs": [],
      "source": [
        "# Evaluate your trained Softmax on the test set: you should be able to get at least 0.42\n",
        "y_test_pred = best_softmax.predict(X_test_feats)\n",
        "test_accuracy = np.mean(y_test == y_test_pred)\n",
        "print(test_accuracy)"
      ]
    },
    {
      "cell_type": "code",
      "execution_count": 6,
      "id": "5i2oz_jdndHL",
      "metadata": {
        "colab": {
          "base_uri": "https://localhost:8080/"
        },
        "executionInfo": {
          "elapsed": 51,
          "status": "ok",
          "timestamp": 1743922805907,
          "user": {
            "displayName": "Chaitanya Pankajkumar Patel",
            "userId": "12528634836775253144"
          },
          "user_tz": 420
        },
        "id": "5i2oz_jdndHL",
        "outputId": "b01cb2b5-86c2-4787-d261-b70a4ccef462"
      },
      "outputs": [],
      "source": [
        "# Save best softmax model\n",
        "best_softmax.save(\"best_softmax_features.npy\")"
      ]
    },
    {
      "cell_type": "code",
      "execution_count": 7,
      "id": "e879145a",
      "metadata": {
        "colab": {
          "base_uri": "https://localhost:8080/",
          "height": 675
        },
        "executionInfo": {
          "elapsed": 1826,
          "status": "ok",
          "timestamp": 1743918095842,
          "user": {
            "displayName": "Chaitanya Pankajkumar Patel",
            "userId": "12528634836775253144"
          },
          "user_tz": 420
        },
        "id": "e879145a",
        "outputId": "313433fc-2b80-4718-a6d0-d6076750c47a"
      },
      "outputs": [],
      "source": [
        "# An important way to gain intuition about how an algorithm works is to\n",
        "# visualize the mistakes that it makes. In this visualization, we show examples\n",
        "# of images that are misclassified by our current system. The first column\n",
        "# shows images that our system labeled as \"plane\" but whose true label is\n",
        "# something other than \"plane\".\n",
        "\n",
        "examples_per_class = 8\n",
        "classes = ['plane', 'car', 'bird', 'cat', 'deer', 'dog', 'frog', 'horse', 'ship', 'truck']\n",
        "for cls, cls_name in enumerate(classes):\n",
        "    idxs = np.where((y_test != cls) & (y_test_pred == cls))[0]\n",
        "    idxs = np.random.choice(idxs, examples_per_class, replace=False)\n",
        "    for i, idx in enumerate(idxs):\n",
        "        plt.subplot(examples_per_class, len(classes), i * len(classes) + cls + 1)\n",
        "        plt.imshow(X_test[idx].astype('uint8'))\n",
        "        plt.axis('off')\n",
        "        if i == 0:\n",
        "            plt.title(cls_name)\n",
        "plt.show()"
      ]
    },
    {
      "cell_type": "markdown",
      "id": "a70bdb48",
      "metadata": {
        "id": "a70bdb48",
        "tags": [
          "pdf-inline"
        ]
      },
      "source": [
        "### Inline question 1:\n",
        "Describe the misclassification results that you see. Do they make sense?\n",
        "\n",
        "\n",
        "$\\color{blue}{\\textit Your Answer:}$\n",
        "\n",
        "### START ANSWER HERE ###\n",
        "### END ANSWER HERE ###\n"
      ]
    },
    {
      "cell_type": "markdown",
      "id": "4fd2d201",
      "metadata": {
        "id": "4fd2d201"
      },
      "source": [
        "## Neural Network on image features\n",
        "Earlier in this assigment we saw that training a two-layer neural network on raw pixels achieved better classification performance than linear classifiers on raw pixels. In this notebook we have seen that linear classifiers on image features outperform linear classifiers on raw pixels.\n",
        "\n",
        "For completeness, we should also try training a neural network on image features. This approach should outperform all previous approaches: you should easily be able to achieve over 55% classification accuracy on the test set; our best model achieves about 60% classification accuracy."
      ]
    },
    {
      "cell_type": "code",
      "execution_count": 8,
      "id": "f690a1fa",
      "metadata": {
        "colab": {
          "base_uri": "https://localhost:8080/"
        },
        "executionInfo": {
          "elapsed": 19,
          "status": "ok",
          "timestamp": 1743918147966,
          "user": {
            "displayName": "Chaitanya Pankajkumar Patel",
            "userId": "12528634836775253144"
          },
          "user_tz": 420
        },
        "id": "f690a1fa",
        "outputId": "cb4709a2-3400-4cc2-b601-9dfcdc61b673",
        "tags": [
          "pdf-ignore"
        ]
      },
      "outputs": [],
      "source": [
        "# Preprocessing: Remove the bias dimension\n",
        "# Make sure to run this cell only ONCE\n",
        "print(X_train_feats.shape)\n",
        "X_train_feats = X_train_feats[:, :-1]\n",
        "X_val_feats = X_val_feats[:, :-1]\n",
        "X_test_feats = X_test_feats[:, :-1]\n",
        "\n",
        "print(X_train_feats.shape)"
      ]
    },
    {
      "cell_type": "code",
      "execution_count": 9,
      "id": "30f914d6",
      "metadata": {
        "colab": {
          "base_uri": "https://localhost:8080/"
        },
        "executionInfo": {
          "elapsed": 27517,
          "status": "ok",
          "timestamp": 1743918182408,
          "user": {
            "displayName": "Chaitanya Pankajkumar Patel",
            "userId": "12528634836775253144"
          },
          "user_tz": 420
        },
        "id": "30f914d6",
        "outputId": "85089edf-9e44-44c8-8982-500f4882d9a3",
        "tags": [
          "code"
        ]
      },
      "outputs": [],
      "source": [
        "from xcs231n.classifiers.fc_net import TwoLayerNet\n",
        "from xcs231n.solver import Solver\n",
        "\n",
        "input_dim = X_train_feats.shape[1]\n",
        "hidden_dim = 500\n",
        "num_classes = 10\n",
        "\n",
        "data = {\n",
        "    'X_train': X_train_feats,\n",
        "    'y_train': y_train,\n",
        "    'X_val': X_val_feats,\n",
        "    'y_val': y_val,\n",
        "    'X_test': X_test_feats,\n",
        "    'y_test': y_test,\n",
        "}\n",
        "\n",
        "net = TwoLayerNet(input_dim, hidden_dim, num_classes)\n",
        "best_net = None\n",
        "\n",
        "################################################################################\n",
        "# TODO: Train a two-layer neural network on image features. You may want to    #\n",
        "# cross-validate various parameters as in previous sections. Store your best   #\n",
        "# model in the best_net variable.                                              #\n",
        "################################################################################\n",
        "# ### START CODE HERE ###\n",
        "# ### END CODE HERE ###"
      ]
    },
    {
      "cell_type": "code",
      "execution_count": 10,
      "id": "54573a5e",
      "metadata": {
        "colab": {
          "base_uri": "https://localhost:8080/"
        },
        "executionInfo": {
          "elapsed": 49,
          "status": "ok",
          "timestamp": 1743919039207,
          "user": {
            "displayName": "Chaitanya Pankajkumar Patel",
            "userId": "12528634836775253144"
          },
          "user_tz": 420
        },
        "id": "54573a5e",
        "outputId": "a57839f2-afde-4636-861a-0d0e27037c84",
        "test": "nn_test_accuracy"
      },
      "outputs": [],
      "source": [
        "# Run your best neural net classifier on the test set. You should be able\n",
        "# to get more than 58% accuracy. It is also possible to get >60% accuracy\n",
        "# with careful tuning.\n",
        "\n",
        "y_test_pred = np.argmax(best_net.loss(data['X_test']), axis=1)\n",
        "test_acc = (y_test_pred == data['y_test']).mean()\n",
        "print(test_acc)"
      ]
    },
    {
      "cell_type": "code",
      "execution_count": 11,
      "id": "JgC8wNQijcA9",
      "metadata": {
        "colab": {
          "base_uri": "https://localhost:8080/"
        },
        "executionInfo": {
          "elapsed": 41,
          "status": "ok",
          "timestamp": 1743919040523,
          "user": {
            "displayName": "Chaitanya Pankajkumar Patel",
            "userId": "12528634836775253144"
          },
          "user_tz": 420
        },
        "id": "JgC8wNQijcA9",
        "outputId": "baf8f6a7-c7c9-4d7a-8b8c-2b587aaa5948"
      },
      "outputs": [],
      "source": [
        "# Save best model\n",
        "best_net.save(\"best_two_layer_net_features.npy\")"
      ]
    },
    {
      "cell_type": "code",
      "execution_count": 12,
      "id": "9d0ha31Vogl5",
      "metadata": {
        "colab": {
          "base_uri": "https://localhost:8080/"
        },
        "executionInfo": {
          "elapsed": 107,
          "status": "ok",
          "timestamp": 1743922629788,
          "user": {
            "displayName": "Chaitanya Pankajkumar Patel",
            "userId": "12528634836775253144"
          },
          "user_tz": 420
        },
        "id": "9d0ha31Vogl5",
        "outputId": "26584ce9-86e4-470c-9aa0-add8deb4075c"
      },
      "outputs": [],
      "source": [
        "for k, v in best_net.params.items():\n",
        "  print(k, v.shape)\n",
        "print(X_train_feats.shape)\n",
        "print(best_softmax.W.shape)"
      ]
    },
    {
      "cell_type": "markdown",
      "id": "96af5f94",
      "metadata": {},
      "source": [
        "# Submission\n",
        "\n",
        "**You will need to submit the answers from this notebook on Gradescope.**"
      ]
    }
  ],
  "metadata": {
    "colab": {
      "provenance": []
    },
    "kernelspec": {
      "display_name": ".venv",
      "language": "python",
      "name": "python3"
    },
    "language_info": {
      "codemirror_mode": {
        "name": "ipython",
        "version": 3
      },
      "file_extension": ".py",
      "mimetype": "text/x-python",
      "name": "python",
      "nbconvert_exporter": "python",
      "pygments_lexer": "ipython3",
      "version": "3.12.3"
    }
  },
  "nbformat": 4,
  "nbformat_minor": 5
}