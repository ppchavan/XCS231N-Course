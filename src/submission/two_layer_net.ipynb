{
  "cells": [
    {
      "cell_type": "markdown",
      "id": "2fdf2ae1",
      "metadata": {},
      "source": [
        "# Setup "
      ]
    },
    {
      "cell_type": "markdown",
      "id": "02652c55",
      "metadata": {},
      "source": [
        "<div style=\"background-color: #ffebee; border: 2px solid #d32f2f; padding: 10px; border-radius: 5px; color: #b71c1c;\">\n",
        "        <b>Caution:</b> The setup code below only needs to be run once per assignment. If you've already executed it, you can safely ignore this section and proceed to the <a href=\"#assignment-content\" style=\"color: #d32f2f; text-decoration: underline;\">Assignment Content</a>.\n",
        "    </div>"
      ]
    },
    {
      "cell_type": "markdown",
      "id": "ae793c0b",
      "metadata": {},
      "source": [
        "This will run through setup of all necessary dependencies to complete the assignment."
      ]
    },
    {
      "cell_type": "markdown",
      "id": "cda049e1",
      "metadata": {},
      "source": [
        "## Install required tools"
      ]
    },
    {
      "cell_type": "code",
      "execution_count": 2,
      "id": "9bca6094",
      "metadata": {},
      "outputs": [],
      "source": [
        "try:\n",
        "  import google.colab\n",
        "  IN_COLAB = True\n",
        "except:\n",
        "  IN_COLAB = False\n",
        "\n",
        "if IN_COLAB:\n",
        "    # fixing error like \"No module named 'imp'\"\n",
        "    !sed -i -e 's/from imp import reload/from importlib import reload/' /usr/local/lib/python3.12/dist-packages/IPython/extensions/autoreload.py\n",
        "else:\n",
        "  import os\n",
        "  # add local dependencies to PATH (for uv installation)\n",
        "  os.environ['PATH'] = '/usr/local/bin:$HOME/.local/bin:' + os.environ['PATH']\n",
        "  # add conda dependencies to PATH (for conda installation)\n",
        "  os.environ['PATH'] = '/opt/anaconda3:~/anaconda3:~:~/miniconda3:/opt/miniconda3:' + os.environ['PATH']"
      ]
    },
    {
      "cell_type": "markdown",
      "id": "06d5422e",
      "metadata": {},
      "source": [
        "## Install datasets"
      ]
    },
    {
      "cell_type": "markdown",
      "id": "3ba057b7",
      "metadata": {},
      "source": [
        "The code snippets below will mount your Google Drive folder (if in a Colab environment) and proceed to install the relevant datasets needed to complete the assignment."
      ]
    },
    {
      "cell_type": "code",
      "execution_count": 3,
      "id": "70705ee6",
      "metadata": {},
      "outputs": [
        {
          "name": "stdout",
          "output_type": "stream",
          "text": [
            "FOLDERNAME:  d:\\course\\XCS231N-Course\\XCS231N-A1\\src\\submission\n",
            "WORK_DIR:  d:\\course\\XCS231N-Course\\XCS231N-A1\\src\\submission\n"
          ]
        }
      ],
      "source": [
        "if IN_COLAB:\n",
        "    # TODO: For colab, Enter the foldername in your Google Drive\n",
        "    # to the root of the assignment folder, where this notebook exists\n",
        "    # e.g. 'XCS231N/XCS231N-A?/src/submission' # you need to update \"A?\" with the homework number\n",
        "    FOLDERNAME = 'path to your submission folder, see the above description'\n",
        "    WORK_DIR = '/content/drive/MyDrive/{}'.format(FOLDERNAME)\n",
        "    # This mounts your Google Drive to the Colab VM.\n",
        "    from google.colab import drive\n",
        "    drive.mount('/content/drive')\n",
        "\n",
        "    assert FOLDERNAME is not None, \"[!] Enter the foldername.\"\n",
        "\n",
        "    # Now that we've mounted your Drive, this ensures that\n",
        "    # the Python interpreter of the Colab VM can load\n",
        "    # python files from within it.\n",
        "    import sys\n",
        "    sys.path.append(WORK_DIR)\n",
        "else:\n",
        "    # on local or azure, FOLDERNAME is set automatically\n",
        "    FOLDERNAME=os.getcwd()\n",
        "    WORK_DIR = FOLDERNAME\n",
        "\n",
        "print(f\"FOLDERNAME: \", FOLDERNAME)\n",
        "print(f\"WORK_DIR: \", WORK_DIR)"
      ]
    },
    {
      "cell_type": "code",
      "execution_count": 4,
      "id": "f537ac6b",
      "metadata": {},
      "outputs": [
        {
          "name": "stdout",
          "output_type": "stream",
          "text": [
            "Getting dataset: START\n",
            "d:\\course\\XCS231N-Course\\XCS231N-A1\\src\\submission\\xcs231n\\datasets\n",
            "d:\\course\\XCS231N-Course\\XCS231N-A1\\src\\submission\n",
            "Getting dataset: DONE\n"
          ]
        }
      ],
      "source": [
        "print(\"Getting dataset: START\")\n",
        "%cd $WORK_DIR/xcs231n/datasets\n",
        "!bash get_datasets.sh\n",
        "%cd $WORK_DIR\n",
        "print(\"Getting dataset: DONE\")"
      ]
    },
    {
      "cell_type": "markdown",
      "id": "2d76b05d",
      "metadata": {},
      "source": [
        "# Package Manager Setup"
      ]
    },
    {
      "cell_type": "markdown",
      "id": "2eefd455",
      "metadata": {},
      "source": [
        "Below you have the option to run through the installation of `uv` package manager. Optionally, you can still work with `conda`."
      ]
    },
    {
      "cell_type": "markdown",
      "id": "ef618f0e",
      "metadata": {},
      "source": [
        "## `uv` (preferred)"
      ]
    },
    {
      "cell_type": "code",
      "execution_count": null,
      "id": "774a8631",
      "metadata": {},
      "outputs": [],
      "source": [
        "if not IN_COLAB:\n",
        "  %cd $WORK_DIR/../..\n",
        "  !source install.sh -r\n",
        "  !source .venv/bin/activate"
      ]
    },
    {
      "cell_type": "markdown",
      "id": "bc823161",
      "metadata": {},
      "source": [
        "## `conda` (legacy)"
      ]
    },
    {
      "cell_type": "code",
      "execution_count": null,
      "id": "161ae8ec",
      "metadata": {},
      "outputs": [],
      "source": [
        "# uncomment to use conda\n",
        "# if IN_COLAB:\n",
        "#     !pip install -q condacolab\n",
        "#     import condacolab\n",
        "#     condacolab.install()\n",
        "#     %cd $WORK_DIR/src\n",
        "#     !conda env create -f environment.yml\n",
        "#     !exec bash\n",
        "# else:\n",
        "#     %cd $WORK_DIR/src\n",
        "#     !conda env create -f environment.yml"
      ]
    },
    {
      "cell_type": "markdown",
      "id": "setup_divider",
      "metadata": {},
      "source": [
        "---"
      ]
    },
    {
      "cell_type": "markdown",
      "id": "assignment_content_header",
      "metadata": {},
      "source": [
        "<a id=\"assignment-content\"></a>\n",
        "\n",
        "# Assignment Content"
      ]
    },
    {
      "cell_type": "markdown",
      "id": "e370a238",
      "metadata": {
        "id": "e370a238",
        "tags": [
          "pdf-ignore"
        ]
      },
      "source": [
        "# Fully-Connected Neural Nets\n",
        "In this exercise we will implement fully-connected networks using a modular approach. For each layer we will implement a `forward` and a `backward` function. The `forward` function will receive inputs, weights, and other parameters and will return both an output and a `cache` object storing data needed for the backward pass, like this:\n",
        "\n",
        "```python\n",
        "def layer_forward(x, w):\n",
        "  \"\"\" Receive inputs x and weights w \"\"\"\n",
        "  # Do some computations ...\n",
        "  z = # ... some intermediate value\n",
        "  # Do some more computations ...\n",
        "  out = # the output\n",
        "   \n",
        "  cache = (x, w, z, out) # Values we need to compute gradients\n",
        "   \n",
        "  return out, cache\n",
        "```\n",
        "\n",
        "The backward pass will receive upstream derivatives and the `cache` object, and will return gradients with respect to the inputs and weights, like this:\n",
        "\n",
        "```python\n",
        "def layer_backward(dout, cache):\n",
        "  \"\"\"\n",
        "  Receive dout (derivative of loss with respect to outputs) and cache,\n",
        "  and compute derivative with respect to inputs.\n",
        "  \"\"\"\n",
        "  # Unpack cache values\n",
        "  x, w, z, out = cache\n",
        "  \n",
        "  # Use values in cache to compute derivatives\n",
        "  dx = # Derivative of loss with respect to x\n",
        "  dw = # Derivative of loss with respect to w\n",
        "  \n",
        "  return dx, dw\n",
        "```\n",
        "\n",
        "After implementing a bunch of layers this way, we will be able to easily combine them to build classifiers with different architectures.\n",
        "  "
      ]
    },
    {
      "cell_type": "code",
      "execution_count": 7,
      "id": "0acf2688",
      "metadata": {
        "id": "0acf2688",
        "tags": [
          "pdf-ignore"
        ]
      },
      "outputs": [
        {
          "name": "stdout",
          "output_type": "stream",
          "text": [
            "The autoreload extension is already loaded. To reload it, use:\n",
            "  %reload_ext autoreload\n"
          ]
        }
      ],
      "source": [
        "# As usual, a bit of setup\n",
        "from __future__ import print_function\n",
        "import time\n",
        "import numpy as np\n",
        "import matplotlib.pyplot as plt\n",
        "from xcs231n.classifiers.fc_net import *\n",
        "from xcs231n.data_utils import get_CIFAR10_data\n",
        "from xcs231n.gradient_check import eval_numerical_gradient, eval_numerical_gradient_array\n",
        "from xcs231n.solver import Solver\n",
        "\n",
        "%matplotlib inline\n",
        "plt.rcParams['figure.figsize'] = (10.0, 8.0) # set default size of plots\n",
        "plt.rcParams['image.interpolation'] = 'nearest'\n",
        "plt.rcParams['image.cmap'] = 'gray'\n",
        "\n",
        "# for auto-reloading external modules\n",
        "# see http://stackoverflow.com/questions/1907993/autoreload-of-modules-in-ipython\n",
        "%load_ext autoreload\n",
        "%autoreload 2\n",
        "\n",
        "def rel_error(x, y):\n",
        "  \"\"\" returns relative error \"\"\"\n",
        "  return np.max(np.abs(x - y) / (np.maximum(1e-8, np.abs(x) + np.abs(y))))"
      ]
    },
    {
      "cell_type": "code",
      "execution_count": 8,
      "id": "909acc7b",
      "metadata": {
        "colab": {
          "base_uri": "https://localhost:8080/"
        },
        "executionInfo": {
          "elapsed": 11692,
          "status": "ok",
          "timestamp": 1743898589004,
          "user": {
            "displayName": "Chaitanya Pankajkumar Patel",
            "userId": "12528634836775253144"
          },
          "user_tz": 420
        },
        "id": "909acc7b",
        "outputId": "8b99bf2e-8cbb-43b8-f8ef-91ce8579e3b6",
        "tags": [
          "pdf-ignore"
        ]
      },
      "outputs": [
        {
          "name": "stdout",
          "output_type": "stream",
          "text": [
            "('X_train: ', (49000, 3, 32, 32))\n",
            "('y_train: ', (49000,))\n",
            "('X_val: ', (1000, 3, 32, 32))\n",
            "('y_val: ', (1000,))\n",
            "('X_test: ', (1000, 3, 32, 32))\n",
            "('y_test: ', (1000,))\n"
          ]
        }
      ],
      "source": [
        "# Load the (preprocessed) CIFAR10 data.\n",
        "\n",
        "data = get_CIFAR10_data()\n",
        "for k, v in list(data.items()):\n",
        "  print(('%s: ' % k, v.shape))"
      ]
    },
    {
      "cell_type": "code",
      "execution_count": 3,
      "id": "p5VCIrkpdh3y",
      "metadata": {
        "id": "p5VCIrkpdh3y"
      },
      "outputs": [],
      "source": [
        "# import os\n",
        "# check_data = {\n",
        "#     'X_val': data['X_val'],\n",
        "#     'y_val': data['y_val'],\n",
        "#     'X_test': data['X_test'],\n",
        "#     'y_test': data['y_test'],\n",
        "# }\n",
        "# np.save(\"/content/drive/MyDrive/cs231n/assignments/assignment1_mine/cifar10_test_data.npy\", check_data)"
      ]
    },
    {
      "cell_type": "markdown",
      "id": "e7851b32",
      "metadata": {
        "id": "e7851b32"
      },
      "source": [
        "# Affine layer: forward\n",
        "Open the file `xcs231n/layers.py` and implement the `affine_forward` function.\n",
        "\n",
        "Once you are done you can test your implementaion by running the following:"
      ]
    },
    {
      "cell_type": "code",
      "execution_count": 9,
      "id": "9408a08c",
      "metadata": {
        "colab": {
          "base_uri": "https://localhost:8080/"
        },
        "executionInfo": {
          "elapsed": 49,
          "status": "ok",
          "timestamp": 1743899090611,
          "user": {
            "displayName": "Chaitanya Pankajkumar Patel",
            "userId": "12528634836775253144"
          },
          "user_tz": 420
        },
        "id": "9408a08c",
        "outputId": "d48cc891-db33-4390-b2df-42d1160d6d20"
      },
      "outputs": [
        {
          "name": "stdout",
          "output_type": "stream",
          "text": [
            "Testing affine_forward function:\n",
            "difference:  9.769849468192957e-10\n"
          ]
        }
      ],
      "source": [
        "# Test the affine_forward function\n",
        "\n",
        "num_inputs = 2\n",
        "input_shape = (4, 5, 6)\n",
        "output_dim = 3\n",
        "\n",
        "input_size = num_inputs * np.prod(input_shape)\n",
        "weight_size = output_dim * np.prod(input_shape)\n",
        "\n",
        "x = np.linspace(-0.1, 0.5, num=input_size).reshape(num_inputs, *input_shape)\n",
        "w = np.linspace(-0.2, 0.3, num=weight_size).reshape(np.prod(input_shape), output_dim)\n",
        "b = np.linspace(-0.3, 0.1, num=output_dim)\n",
        "\n",
        "out, _ = affine_forward(x, w, b)\n",
        "correct_out = np.array([[ 1.49834967,  1.70660132,  1.91485297],\n",
        "                        [ 3.25553199,  3.5141327,   3.77273342]])\n",
        "\n",
        "# Compare your output with ours. The error should be around e-9 or less.\n",
        "print('Testing affine_forward function:')\n",
        "print('difference: ', rel_error(out, correct_out))"
      ]
    },
    {
      "cell_type": "markdown",
      "id": "bfdfab60",
      "metadata": {
        "id": "bfdfab60"
      },
      "source": [
        "# Affine layer: backward\n",
        "Now implement the `affine_backward` function and test your implementation using numeric gradient checking."
      ]
    },
    {
      "cell_type": "code",
      "execution_count": 10,
      "id": "42ebdc09",
      "metadata": {
        "colab": {
          "base_uri": "https://localhost:8080/"
        },
        "executionInfo": {
          "elapsed": 34,
          "status": "ok",
          "timestamp": 1743899092975,
          "user": {
            "displayName": "Chaitanya Pankajkumar Patel",
            "userId": "12528634836775253144"
          },
          "user_tz": 420
        },
        "id": "42ebdc09",
        "outputId": "17f0d8be-7497-46bd-b54e-82a1eba785e8"
      },
      "outputs": [
        {
          "name": "stdout",
          "output_type": "stream",
          "text": [
            "Testing affine_backward function:\n",
            "dx error:  5.399100368651805e-11\n",
            "dw error:  9.904211865398145e-11\n",
            "db error:  2.4122867568119087e-11\n"
          ]
        }
      ],
      "source": [
        "# Test the affine_backward function\n",
        "np.random.seed(231)\n",
        "x = np.random.randn(10, 2, 3)\n",
        "w = np.random.randn(6, 5)\n",
        "b = np.random.randn(5)\n",
        "dout = np.random.randn(10, 5)\n",
        "\n",
        "dx_num = eval_numerical_gradient_array(lambda x: affine_forward(x, w, b)[0], x, dout)\n",
        "dw_num = eval_numerical_gradient_array(lambda w: affine_forward(x, w, b)[0], w, dout)\n",
        "db_num = eval_numerical_gradient_array(lambda b: affine_forward(x, w, b)[0], b, dout)\n",
        "\n",
        "_, cache = affine_forward(x, w, b)\n",
        "dx, dw, db = affine_backward(dout, cache)\n",
        "\n",
        "# The error should be around e-10 or less\n",
        "print('Testing affine_backward function:')\n",
        "print('dx error: ', rel_error(dx_num, dx))\n",
        "print('dw error: ', rel_error(dw_num, dw))\n",
        "print('db error: ', rel_error(db_num, db))"
      ]
    },
    {
      "cell_type": "markdown",
      "id": "00b019e3",
      "metadata": {
        "id": "00b019e3"
      },
      "source": [
        "# ReLU activation: forward\n",
        "Implement the forward pass for the ReLU activation function in the `relu_forward` function and test your implementation using the following:"
      ]
    },
    {
      "cell_type": "code",
      "execution_count": 11,
      "id": "007bbf68",
      "metadata": {
        "colab": {
          "base_uri": "https://localhost:8080/"
        },
        "executionInfo": {
          "elapsed": 20,
          "status": "ok",
          "timestamp": 1743899095587,
          "user": {
            "displayName": "Chaitanya Pankajkumar Patel",
            "userId": "12528634836775253144"
          },
          "user_tz": 420
        },
        "id": "007bbf68",
        "outputId": "1f183994-556e-40d3-82e9-9004cf86a319"
      },
      "outputs": [
        {
          "name": "stdout",
          "output_type": "stream",
          "text": [
            "Testing relu_forward function:\n",
            "difference:  4.999999798022158e-08\n"
          ]
        }
      ],
      "source": [
        "# Test the relu_forward function\n",
        "\n",
        "x = np.linspace(-0.5, 0.5, num=12).reshape(3, 4)\n",
        "\n",
        "out, _ = relu_forward(x)\n",
        "correct_out = np.array([[ 0.,          0.,          0.,          0.,        ],\n",
        "                        [ 0.,          0.,          0.04545455,  0.13636364,],\n",
        "                        [ 0.22727273,  0.31818182,  0.40909091,  0.5,       ]])\n",
        "\n",
        "# Compare your output with ours. The error should be on the order of e-8\n",
        "print('Testing relu_forward function:')\n",
        "print('difference: ', rel_error(out, correct_out))"
      ]
    },
    {
      "cell_type": "markdown",
      "id": "3ac8a267",
      "metadata": {
        "id": "3ac8a267"
      },
      "source": [
        "# ReLU activation: backward\n",
        "Now implement the backward pass for the ReLU activation function in the `relu_backward` function and test your implementation using numeric gradient checking:"
      ]
    },
    {
      "cell_type": "code",
      "execution_count": 12,
      "id": "304a1bb2",
      "metadata": {
        "colab": {
          "base_uri": "https://localhost:8080/"
        },
        "executionInfo": {
          "elapsed": 25,
          "status": "ok",
          "timestamp": 1743899097858,
          "user": {
            "displayName": "Chaitanya Pankajkumar Patel",
            "userId": "12528634836775253144"
          },
          "user_tz": 420
        },
        "id": "304a1bb2",
        "outputId": "bc4212ad-6e5c-4ce1-e58e-e89614815caa"
      },
      "outputs": [
        {
          "name": "stdout",
          "output_type": "stream",
          "text": [
            "Testing relu_backward function:\n",
            "dx error:  3.2756349136310288e-12\n"
          ]
        }
      ],
      "source": [
        "np.random.seed(231)\n",
        "x = np.random.randn(10, 10)\n",
        "dout = np.random.randn(*x.shape)\n",
        "\n",
        "dx_num = eval_numerical_gradient_array(lambda x: relu_forward(x)[0], x, dout)\n",
        "\n",
        "_, cache = relu_forward(x)\n",
        "dx = relu_backward(dout, cache)\n",
        "\n",
        "# The error should be on the order of e-12\n",
        "print('Testing relu_backward function:')\n",
        "print('dx error: ', rel_error(dx_num, dx))"
      ]
    },
    {
      "cell_type": "markdown",
      "id": "e17b23f3",
      "metadata": {
        "id": "e17b23f3",
        "tags": [
          "pdf-inline"
        ]
      },
      "source": [
        "## Inline Question 1:\n",
        "\n",
        "We've only asked you to implement ReLU, but there are a number of different activation functions that one could use in neural networks, each with its pros and cons. In particular, an issue commonly seen with activation functions is getting zero (or close to zero) gradient flow during backpropagation. Which of the following activation functions have this problem? If you consider these functions in the one dimensional case, what types of input would lead to this behaviour?\n",
        "1. Sigmoid\n",
        "2. ReLU\n",
        "3. Leaky ReLU\n",
        "\n",
        "$\\color{blue}{\\textit Your Answer:}$ \n",
        "\n",
        "### START ANSWER HERE ###\n",
        "Gradient flow problem: The derivative of the sigmoid function is close to zero for very large positive or very large negative inputs.For example, if the input \\(x\\) is 5, the derivative is about 0.006. If \\(x\\) is -5, the derivative is also about 0.006. If the input is even larger (positive or negative), the derivative approaches 0.\n",
        "\n",
        "i. Sigmoid - The \"saturating\" regions of the sigmoid curve—that is, large positive or large negative inputs—lead to a near-zero gradient.\n",
        "\n",
        "ii. ReLU - Any negative input to a ReLU neuron results in an output of zero and a gradient of zero.\n",
        "\n",
        "iii. For leaky relu - No input will cause a zero gradient. Even for negative inputs, the gradient is a small, constant value of alpha.\n",
        "### END ANSWER HERE ###"
      ]
    },
    {
      "cell_type": "markdown",
      "id": "e9daf016",
      "metadata": {
        "id": "e9daf016"
      },
      "source": [
        "# \"Sandwich\" layers\n",
        "There are some common patterns of layers that are frequently used in neural nets. For example, affine layers are frequently followed by a ReLU nonlinearity. To make these common patterns easy, we define several convenience layers in the file `xcs231n/layer_utils.py`.\n",
        "\n",
        "For now take a look at the `affine_relu_forward` and `affine_relu_backward` functions, and run the following to numerically gradient check the backward pass:"
      ]
    },
    {
      "cell_type": "code",
      "execution_count": 13,
      "id": "30088927",
      "metadata": {
        "colab": {
          "base_uri": "https://localhost:8080/"
        },
        "executionInfo": {
          "elapsed": 22,
          "status": "ok",
          "timestamp": 1743899102650,
          "user": {
            "displayName": "Chaitanya Pankajkumar Patel",
            "userId": "12528634836775253144"
          },
          "user_tz": 420
        },
        "id": "30088927",
        "outputId": "56ffb2cd-4d68-4fc9-d3d1-1e39b78adb4c"
      },
      "outputs": [
        {
          "name": "stdout",
          "output_type": "stream",
          "text": [
            "Testing affine_relu_forward and affine_relu_backward:\n",
            "dx error:  2.299579177309368e-11\n",
            "dw error:  8.162011105764925e-11\n",
            "db error:  7.826724021458994e-12\n"
          ]
        }
      ],
      "source": [
        "from xcs231n.layer_utils import affine_relu_forward, affine_relu_backward\n",
        "np.random.seed(231)\n",
        "x = np.random.randn(2, 3, 4)\n",
        "w = np.random.randn(12, 10)\n",
        "b = np.random.randn(10)\n",
        "dout = np.random.randn(2, 10)\n",
        "\n",
        "out, cache = affine_relu_forward(x, w, b)\n",
        "dx, dw, db = affine_relu_backward(dout, cache)\n",
        "\n",
        "dx_num = eval_numerical_gradient_array(lambda x: affine_relu_forward(x, w, b)[0], x, dout)\n",
        "dw_num = eval_numerical_gradient_array(lambda w: affine_relu_forward(x, w, b)[0], w, dout)\n",
        "db_num = eval_numerical_gradient_array(lambda b: affine_relu_forward(x, w, b)[0], b, dout)\n",
        "\n",
        "# Relative error should be around e-10 or less\n",
        "print('Testing affine_relu_forward and affine_relu_backward:')\n",
        "print('dx error: ', rel_error(dx_num, dx))\n",
        "print('dw error: ', rel_error(dw_num, dw))\n",
        "print('db error: ', rel_error(db_num, db))"
      ]
    },
    {
      "cell_type": "markdown",
      "id": "37dd603b",
      "metadata": {
        "id": "37dd603b"
      },
      "source": [
        "# Loss layers: Softmax\n",
        "Now implement the loss and gradient for softmax in the `softmax_loss` function in `cs231n/layers.py`. These should be similar to what you implemented in `cs231n/classifiers/softmax.py`. Other loss functions (e.g. `svm_loss`) can also be implemented in a modular way, however, it is not required for this assignment.\n",
        "\n",
        "You can make sure that the implementations are correct by running the following:"
      ]
    },
    {
      "cell_type": "code",
      "execution_count": 15,
      "id": "22d5269d",
      "metadata": {
        "colab": {
          "base_uri": "https://localhost:8080/"
        },
        "executionInfo": {
          "elapsed": 110,
          "status": "ok",
          "timestamp": 1743899105351,
          "user": {
            "displayName": "Chaitanya Pankajkumar Patel",
            "userId": "12528634836775253144"
          },
          "user_tz": 420
        },
        "id": "22d5269d",
        "outputId": "e76d0794-f34f-476a-8381-9df45a249998"
      },
      "outputs": [
        {
          "name": "stdout",
          "output_type": "stream",
          "text": [
            "\n",
            "Testing softmax_loss:\n",
            "loss:  2.302545844500738\n",
            "dx error:  9.384673161989355e-09\n"
          ]
        }
      ],
      "source": [
        "np.random.seed(231)\n",
        "num_classes, num_inputs = 10, 50\n",
        "x = 0.001 * np.random.randn(num_inputs, num_classes)\n",
        "y = np.random.randint(num_classes, size=num_inputs)\n",
        "\n",
        "\n",
        "dx_num = eval_numerical_gradient(lambda x: softmax_loss(x, y)[0], x, verbose=False)\n",
        "loss, dx = softmax_loss(x, y)\n",
        "\n",
        "# Test softmax_loss function. Loss should be close to 2.3 and dx error should be around e-8\n",
        "print('\\nTesting softmax_loss:')\n",
        "print('loss: ', loss)\n",
        "print('dx error: ', rel_error(dx_num, dx))"
      ]
    },
    {
      "cell_type": "markdown",
      "id": "5898b95a",
      "metadata": {
        "id": "5898b95a"
      },
      "source": [
        "# Two-layer network\n",
        "Open the file `xcs231n/classifiers/fc_net.py` and complete the implementation of the `TwoLayerNet` class. Read through it to make sure you understand the API. You can run the cell below to test your implementation."
      ]
    },
    {
      "cell_type": "code",
      "execution_count": 17,
      "id": "0a83db9b",
      "metadata": {
        "colab": {
          "base_uri": "https://localhost:8080/"
        },
        "executionInfo": {
          "elapsed": 297,
          "status": "ok",
          "timestamp": 1743899115968,
          "user": {
            "displayName": "Chaitanya Pankajkumar Patel",
            "userId": "12528634836775253144"
          },
          "user_tz": 420
        },
        "id": "0a83db9b",
        "outputId": "d885d945-e236-40ff-efd3-764e6a3be259"
      },
      "outputs": [
        {
          "name": "stdout",
          "output_type": "stream",
          "text": [
            "Testing initialization ... \n"
          ]
        },
        {
          "ename": "KeyError",
          "evalue": "'W1'",
          "output_type": "error",
          "traceback": [
            "\u001b[31m---------------------------------------------------------------------------\u001b[39m",
            "\u001b[31mKeyError\u001b[39m                                  Traceback (most recent call last)",
            "\u001b[36mCell\u001b[39m\u001b[36m \u001b[39m\u001b[32mIn[17]\u001b[39m\u001b[32m, line 10\u001b[39m\n\u001b[32m      7\u001b[39m model = TwoLayerNet(input_dim=D, hidden_dim=H, num_classes=C, weight_scale=std)\n\u001b[32m      9\u001b[39m \u001b[38;5;28mprint\u001b[39m(\u001b[33m'\u001b[39m\u001b[33mTesting initialization ... \u001b[39m\u001b[33m'\u001b[39m)\n\u001b[32m---> \u001b[39m\u001b[32m10\u001b[39m W1_std = \u001b[38;5;28mabs\u001b[39m(\u001b[43mmodel\u001b[49m\u001b[43m.\u001b[49m\u001b[43mparams\u001b[49m\u001b[43m[\u001b[49m\u001b[33;43m'\u001b[39;49m\u001b[33;43mW1\u001b[39;49m\u001b[33;43m'\u001b[39;49m\u001b[43m]\u001b[49m.std() - std)\n\u001b[32m     11\u001b[39m b1 = model.params[\u001b[33m'\u001b[39m\u001b[33mb1\u001b[39m\u001b[33m'\u001b[39m]\n\u001b[32m     12\u001b[39m W2_std = \u001b[38;5;28mabs\u001b[39m(model.params[\u001b[33m'\u001b[39m\u001b[33mW2\u001b[39m\u001b[33m'\u001b[39m].std() - std)\n",
            "\u001b[31mKeyError\u001b[39m: 'W1'"
          ]
        }
      ],
      "source": [
        "np.random.seed(231)\n",
        "N, D, H, C = 3, 5, 50, 7\n",
        "X = np.random.randn(N, D)\n",
        "y = np.random.randint(C, size=N)\n",
        "\n",
        "std = 1e-3\n",
        "model = TwoLayerNet(input_dim=D, hidden_dim=H, num_classes=C, weight_scale=std)\n",
        "\n",
        "print('Testing initialization ... ')\n",
        "W1_std = abs(model.params['W1'].std() - std)\n",
        "b1 = model.params['b1']\n",
        "W2_std = abs(model.params['W2'].std() - std)\n",
        "b2 = model.params['b2']\n",
        "assert W1_std < std / 10, 'First layer weights do not seem right'\n",
        "assert np.all(b1 == 0), 'First layer biases do not seem right'\n",
        "assert W2_std < std / 10, 'Second layer weights do not seem right'\n",
        "assert np.all(b2 == 0), 'Second layer biases do not seem right'\n",
        "\n",
        "print('Testing test-time forward pass ... ')\n",
        "model.params['W1'] = np.linspace(-0.7, 0.3, num=D*H).reshape(D, H)\n",
        "model.params['b1'] = np.linspace(-0.1, 0.9, num=H)\n",
        "model.params['W2'] = np.linspace(-0.3, 0.4, num=H*C).reshape(H, C)\n",
        "model.params['b2'] = np.linspace(-0.9, 0.1, num=C)\n",
        "X = np.linspace(-5.5, 4.5, num=N*D).reshape(D, N).T\n",
        "scores = model.loss(X)\n",
        "correct_scores = np.asarray(\n",
        "  [[11.53165108,  12.2917344,   13.05181771,  13.81190102,  14.57198434, 15.33206765,  16.09215096],\n",
        "   [12.05769098,  12.74614105,  13.43459113,  14.1230412,   14.81149128, 15.49994135,  16.18839143],\n",
        "   [12.58373087,  13.20054771,  13.81736455,  14.43418138,  15.05099822, 15.66781506,  16.2846319 ]])\n",
        "scores_diff = np.abs(scores - correct_scores).sum()\n",
        "assert scores_diff < 1e-6, 'Problem with test-time forward pass'\n",
        "\n",
        "print('Testing training loss (no regularization)')\n",
        "y = np.asarray([0, 5, 1])\n",
        "loss, grads = model.loss(X, y)\n",
        "correct_loss = 3.4702243556\n",
        "assert abs(loss - correct_loss) < 1e-10, 'Problem with training-time loss'\n",
        "\n",
        "model.reg = 1.0\n",
        "loss, grads = model.loss(X, y)\n",
        "correct_loss = 26.5948426952\n",
        "assert abs(loss - correct_loss) < 1e-10, 'Problem with regularization loss'\n",
        "\n",
        "# Errors should be around e-7 or less\n",
        "for reg in [0.0, 0.7]:\n",
        "  print('Running numeric gradient check with reg = ', reg)\n",
        "  model.reg = reg\n",
        "  loss, grads = model.loss(X, y)\n",
        "\n",
        "  for name in sorted(grads):\n",
        "    f = lambda _: model.loss(X, y)[0]\n",
        "    grad_num = eval_numerical_gradient(f, model.params[name], verbose=False)\n",
        "    print('%s relative error: %.2e' % (name, rel_error(grad_num, grads[name])))"
      ]
    },
    {
      "cell_type": "markdown",
      "id": "0adf7b47",
      "metadata": {
        "id": "0adf7b47"
      },
      "source": [
        "# Solver\n",
        "Open the file `xcs231n/solver.py` and read through it to familiarize yourself with the API. After doing so, use a `Solver` instance to train a `TwoLayerNet` that achieves about `36%` accuracy on the validation set."
      ]
    },
    {
      "cell_type": "code",
      "execution_count": 11,
      "id": "13472b96",
      "metadata": {
        "colab": {
          "base_uri": "https://localhost:8080/"
        },
        "executionInfo": {
          "elapsed": 26679,
          "status": "ok",
          "timestamp": 1743899151671,
          "user": {
            "displayName": "Chaitanya Pankajkumar Patel",
            "userId": "12528634836775253144"
          },
          "user_tz": 420
        },
        "id": "13472b96",
        "outputId": "b706ba2d-8ebf-4ec6-d781-12d69c2abfbe"
      },
      "outputs": [],
      "source": [
        "input_size = 32 * 32 * 3\n",
        "hidden_size = 50\n",
        "num_classes = 10\n",
        "model = TwoLayerNet(input_size, hidden_size, num_classes)\n",
        "solver = None\n",
        "\n",
        "##############################################################################\n",
        "# TODO: Use a Solver instance to train a TwoLayerNet that achieves about 36% #\n",
        "# accuracy on the validation set.                                            #\n",
        "##############################################################################\n",
        "# ### START CODE HERE ###\n",
        "# ### END CODE HERE ###\n",
        "##############################################################################\n",
        "#                             END OF YOUR CODE                               #\n",
        "##############################################################################"
      ]
    },
    {
      "cell_type": "markdown",
      "id": "ffdfc7f4",
      "metadata": {
        "id": "ffdfc7f4"
      },
      "source": [
        "# Debug the training\n",
        "With the default parameters we provided above, you should get a validation accuracy of about 0.36 on the validation set. This isn't very good.\n",
        "\n",
        "One strategy for getting insight into what's wrong is to plot the loss function and the accuracies on the training and validation sets during optimization.\n",
        "\n",
        "Another strategy is to visualize the weights that were learned in the first layer of the network. In most neural networks trained on visual data, the first layer weights typically show some visible structure when visualized."
      ]
    },
    {
      "cell_type": "code",
      "execution_count": 12,
      "id": "1a3649ea",
      "metadata": {
        "colab": {
          "base_uri": "https://localhost:8080/",
          "height": 965
        },
        "executionInfo": {
          "elapsed": 567,
          "status": "ok",
          "timestamp": 1743899164461,
          "user": {
            "displayName": "Chaitanya Pankajkumar Patel",
            "userId": "12528634836775253144"
          },
          "user_tz": 420
        },
        "id": "1a3649ea",
        "outputId": "7cae1bf4-7f9d-418c-d428-489dfd21b6e4"
      },
      "outputs": [],
      "source": [
        "# Run this cell to visualize training loss and train / val accuracy\n",
        "\n",
        "plt.subplot(2, 1, 1)\n",
        "plt.title('Training loss')\n",
        "plt.plot(solver.loss_history, 'o')\n",
        "plt.xlabel('Iteration')\n",
        "\n",
        "plt.subplot(2, 1, 2)\n",
        "plt.title('Accuracy')\n",
        "plt.plot(solver.train_acc_history, '-o', label='train')\n",
        "plt.plot(solver.val_acc_history, '-o', label='val')\n",
        "plt.plot([0.5] * len(solver.val_acc_history), 'k--')\n",
        "plt.xlabel('Epoch')\n",
        "plt.legend(loc='lower right')\n",
        "plt.gcf().set_size_inches(15, 12)\n",
        "plt.show()"
      ]
    },
    {
      "cell_type": "code",
      "execution_count": 13,
      "id": "a6052910",
      "metadata": {
        "colab": {
          "base_uri": "https://localhost:8080/",
          "height": 653
        },
        "executionInfo": {
          "elapsed": 581,
          "status": "ok",
          "timestamp": 1743899167792,
          "user": {
            "displayName": "Chaitanya Pankajkumar Patel",
            "userId": "12528634836775253144"
          },
          "user_tz": 420
        },
        "id": "a6052910",
        "outputId": "8737f5d6-4c36-4753-fc0c-ad8c1b51ba2a"
      },
      "outputs": [],
      "source": [
        "from xcs231n.vis_utils import visualize_grid\n",
        "\n",
        "# Visualize the weights of the network\n",
        "\n",
        "def show_net_weights(net):\n",
        "    W1 = net.params['W1']\n",
        "    W1 = W1.reshape(3, 32, 32, -1).transpose(3, 1, 2, 0)\n",
        "    plt.imshow(visualize_grid(W1, padding=3).astype('uint8'))\n",
        "    plt.gca().axis('off')\n",
        "    plt.show()\n",
        "\n",
        "show_net_weights(model)"
      ]
    },
    {
      "cell_type": "markdown",
      "id": "68386e68",
      "metadata": {
        "id": "68386e68"
      },
      "source": [
        "# Tune your hyperparameters\n",
        "\n",
        "**What's wrong?**. Looking at the visualizations above, we see that the loss is decreasing more or less linearly, which seems to suggest that the learning rate may be too low. Moreover, there is no gap between the training and validation accuracy, suggesting that the model we used has low capacity, and that we should increase its size. On the other hand, with a very large model we would expect to see more overfitting, which would manifest itself as a very large gap between the training and validation accuracy.\n",
        "\n",
        "**Tuning**. Tuning the hyperparameters and developing intuition for how they affect the final performance is a large part of using Neural Networks, so we want you to get a lot of practice. Below, you should experiment with different values of the various hyperparameters, including hidden layer size, learning rate, numer of training epochs, and regularization strength. You might also consider tuning the learning rate decay, but you should be able to get good performance using the default value.\n",
        "\n",
        "**Approximate results**. You should be aim to achieve a classification accuracy of greater than 48% on the validation set. Our best network gets over 52% on the validation set.\n",
        "\n",
        "**Experiment**: You goal in this exercise is to get as good of a result on CIFAR-10 as you can (52% could serve as a reference), with a fully-connected Neural Network. Feel free implement your own techniques (e.g. PCA to reduce dimensionality, or adding dropout, or adding features to the solver, etc.)."
      ]
    },
    {
      "cell_type": "code",
      "execution_count": 14,
      "id": "3d308eb5",
      "metadata": {
        "colab": {
          "base_uri": "https://localhost:8080/"
        },
        "executionInfo": {
          "elapsed": 89038,
          "status": "ok",
          "timestamp": 1743899269111,
          "user": {
            "displayName": "Chaitanya Pankajkumar Patel",
            "userId": "12528634836775253144"
          },
          "user_tz": 420
        },
        "id": "3d308eb5",
        "outputId": "b9d898ef-3eb8-445c-fb09-d77628738e8a",
        "scrolled": false
      },
      "outputs": [],
      "source": [
        "best_model = None\n",
        "\n",
        "#################################################################################\n",
        "# TODO: Tune hyperparameters using the validation set. Store your best trained  #\n",
        "# model in best_model.                                                          #\n",
        "#                                                                               #\n",
        "# To help debug your network, it may help to use visualizations similar to the  #\n",
        "# ones we used above; these visualizations will have significant qualitative    #\n",
        "# differences from the ones we saw above for the poorly tuned network.          #\n",
        "#                                                                               #\n",
        "# Tweaking hyperparameters by hand can be fun, but you might find it useful to  #\n",
        "# write code to sweep through possible combinations of hyperparameters          #\n",
        "# automatically like we did on thexs previous exercises.                          #\n",
        "#################################################################################\n",
        "# ### START CODE HERE ###\n",
        "# ### END CODE HERE ###\n",
        "################################################################################\n",
        "#                              END OF YOUR CODE                                #\n",
        "################################################################################"
      ]
    },
    {
      "cell_type": "markdown",
      "id": "6c70f18f",
      "metadata": {
        "id": "6c70f18f"
      },
      "source": [
        "# Test your model!\n",
        "Run your best model on the validation and test sets. You should achieve above 48% accuracy on the validation set and the test set."
      ]
    },
    {
      "cell_type": "code",
      "execution_count": 15,
      "id": "666e7589",
      "metadata": {
        "colab": {
          "base_uri": "https://localhost:8080/"
        },
        "executionInfo": {
          "elapsed": 110,
          "status": "ok",
          "timestamp": 1743899269223,
          "user": {
            "displayName": "Chaitanya Pankajkumar Patel",
            "userId": "12528634836775253144"
          },
          "user_tz": 420
        },
        "id": "666e7589",
        "outputId": "0728803d-c976-4af5-f72d-705fe7e9abd5",
        "test": "val_accuracy"
      },
      "outputs": [],
      "source": [
        "y_val_pred = np.argmax(best_model.loss(data['X_val']), axis=1)\n",
        "print('Validation set accuracy: ', (y_val_pred == data['y_val']).mean())"
      ]
    },
    {
      "cell_type": "code",
      "execution_count": 16,
      "id": "0d74b7b6",
      "metadata": {
        "colab": {
          "base_uri": "https://localhost:8080/"
        },
        "executionInfo": {
          "elapsed": 30,
          "status": "ok",
          "timestamp": 1743899269252,
          "user": {
            "displayName": "Chaitanya Pankajkumar Patel",
            "userId": "12528634836775253144"
          },
          "user_tz": 420
        },
        "id": "0d74b7b6",
        "outputId": "fc920c59-ed99-4cbe-af45-def80176480f",
        "test": "test_accuracy"
      },
      "outputs": [],
      "source": [
        "y_test_pred = np.argmax(best_model.loss(data['X_test']), axis=1)\n",
        "print('Test set accuracy: ', (y_test_pred == data['y_test']).mean())"
      ]
    },
    {
      "cell_type": "markdown",
      "id": "ab8e2ae9",
      "metadata": {
        "id": "ab8e2ae9"
      },
      "source": [
        "## Inline Question 2:\n",
        "\n",
        "Now that you have trained a Neural Network classifier, you may find that your testing accuracy is much lower than the training accuracy. In what ways can we decrease this gap? Select all that apply.\n",
        "\n",
        "1. Train on a larger dataset.\n",
        "2. Add more hidden units.\n",
        "3. Increase the regularization strength.\n",
        "4. None of the above.\n",
        "\n",
        "$\\color{blue}{\\textit Your Answer:}$\n",
        "\n",
        "### START ANSWER HERE ###\n",
        "### END ANSWER HERE ###"
      ]
    },
    {
      "cell_type": "markdown",
      "id": "5669abcf",
      "metadata": {},
      "source": [
        "# Submission\n",
        "\n",
        "**You will need to submit the answers from this notebook on Gradescope.**"
      ]
    }
  ],
  "metadata": {
    "colab": {
      "provenance": []
    },
    "kernelspec": {
      "display_name": "Python 3",
      "language": "python",
      "name": "python3"
    },
    "language_info": {
      "codemirror_mode": {
        "name": "ipython",
        "version": 3
      },
      "file_extension": ".py",
      "mimetype": "text/x-python",
      "name": "python",
      "nbconvert_exporter": "python",
      "pygments_lexer": "ipython3",
      "version": "3.12.12"
    }
  },
  "nbformat": 4,
  "nbformat_minor": 5
}
